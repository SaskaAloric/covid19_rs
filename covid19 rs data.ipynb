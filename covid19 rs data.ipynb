{
 "cells": [
  {
   "cell_type": "markdown",
   "metadata": {},
   "source": [
    "### Geografska raspodela zaraženih korona virusom u Srbiji"
   ]
  },
  {
   "cell_type": "markdown",
   "metadata": {},
   "source": [
    "Pre par dana Republika Srbija otvorila je podatke o broju zaraženih na nivou opština i gradova i obajvljuje ih dnevno na adresi: https://covid19.data.gov.rs/\n",
    "\n",
    "Ovaj potez je odličan u cilju transparentnosti i izveštavanja (kao posledica toga, videli smo da je veliki broj medijskih kuća napravio svoj vizelni prikaz ovih informacija), međutim, ono što tim podacima nedostaje su neke referentne vrednosti. Stoga je u nastavku kontekstualizovanje broja zaraženih na datim geografskim područjima u skladu sa veličinom datih opština i gradova."
   ]
  },
  {
   "cell_type": "code",
   "execution_count": null,
   "metadata": {
    "scrolled": false
   },
   "outputs": [],
   "source": [
    "import os\n",
    "import pandas as pd\n",
    "import numpy as np\n",
    "import matplotlib.pyplot as plt\n",
    "import time\n",
    "import geopandas as gpd\n",
    "import cyrtranslit\n",
    "import imageio"
   ]
  },
  {
   "cell_type": "markdown",
   "metadata": {},
   "source": [
    "Podaci o broju zaraženih po opštinama i gradovima preuzeti su sa covid19.data.gov.rs nalaze se u folderu *corona data gov*:"
   ]
  },
  {
   "cell_type": "code",
   "execution_count": null,
   "metadata": {
    "scrolled": true
   },
   "outputs": [],
   "source": [
    "files_corona = os.listdir('corona data gov/')"
   ]
  },
  {
   "cell_type": "markdown",
   "metadata": {},
   "source": [
    "Fajlovi sadrže zaglavlje iz kog je moguće izdvojiti datum izveštaja, nakon čega je tabela broja zaraženih po opštinama:"
   ]
  },
  {
   "cell_type": "code",
   "execution_count": 3,
   "metadata": {},
   "outputs": [
    {
     "data": {
      "text/plain": [
       "Index(['COVID19 статистике', '2020-03-06'], dtype='object')"
      ]
     },
     "execution_count": 3,
     "metadata": {},
     "output_type": "execute_result"
    }
   ],
   "source": [
    "pd.read_csv('corona data gov/'+files_corona[0],nrows=1).columns"
   ]
  },
  {
   "cell_type": "code",
   "execution_count": 4,
   "metadata": {},
   "outputs": [
    {
     "data": {
      "text/html": [
       "<div>\n",
       "<style scoped>\n",
       "    .dataframe tbody tr th:only-of-type {\n",
       "        vertical-align: middle;\n",
       "    }\n",
       "\n",
       "    .dataframe tbody tr th {\n",
       "        vertical-align: top;\n",
       "    }\n",
       "\n",
       "    .dataframe thead th {\n",
       "        text-align: right;\n",
       "    }\n",
       "</style>\n",
       "<table border=\"1\" class=\"dataframe\">\n",
       "  <thead>\n",
       "    <tr style=\"text-align: right;\">\n",
       "      <th></th>\n",
       "      <th>Ранк</th>\n",
       "      <th>Територија</th>\n",
       "      <th>Вредност</th>\n",
       "    </tr>\n",
       "  </thead>\n",
       "  <tbody>\n",
       "    <tr>\n",
       "      <th>0</th>\n",
       "      <td>1</td>\n",
       "      <td>Бачка Топола</td>\n",
       "      <td>1.0</td>\n",
       "    </tr>\n",
       "    <tr>\n",
       "      <th>1</th>\n",
       "      <td>2</td>\n",
       "      <td>Алексинац</td>\n",
       "      <td>0.0</td>\n",
       "    </tr>\n",
       "    <tr>\n",
       "      <th>2</th>\n",
       "      <td>2</td>\n",
       "      <td>Аранђеловац</td>\n",
       "      <td>0.0</td>\n",
       "    </tr>\n",
       "    <tr>\n",
       "      <th>3</th>\n",
       "      <td>2</td>\n",
       "      <td>Ариље</td>\n",
       "      <td>0.0</td>\n",
       "    </tr>\n",
       "    <tr>\n",
       "      <th>4</th>\n",
       "      <td>2</td>\n",
       "      <td>Бабушница</td>\n",
       "      <td>0.0</td>\n",
       "    </tr>\n",
       "  </tbody>\n",
       "</table>\n",
       "</div>"
      ],
      "text/plain": [
       "   Ранк    Територија  Вредност\n",
       "0     1  Бачка Топола       1.0\n",
       "1     2     Алексинац       0.0\n",
       "2     2   Аранђеловац       0.0\n",
       "3     2         Ариље       0.0\n",
       "4     2     Бабушница       0.0"
      ]
     },
     "execution_count": 4,
     "metadata": {},
     "output_type": "execute_result"
    }
   ],
   "source": [
    "pd.read_csv('corona data gov/'+files_corona[0],header=2).head()"
   ]
  },
  {
   "cell_type": "markdown",
   "metadata": {},
   "source": [
    "Učitavanje svih fajlova iz foldera, u listu datumi uneti su svi datumi izveštaja dok lista tabela sadrži izveštaje o broju zaraženih po opštinama za svaki od datuma:"
   ]
  },
  {
   "cell_type": "code",
   "execution_count": 5,
   "metadata": {},
   "outputs": [],
   "source": [
    "datumi = []\n",
    "tabele = []\n",
    "for element in files_corona:\n",
    "    datumi.append(list(pd.read_csv('corona data gov/'+element,nrows=1).columns)[1])\n",
    "    temp = pd.read_csv('corona data gov/'+element,header=2)\n",
    "    temp = temp.drop(columns='Ранк') # izbacujemo kolonu s pozicijom na rang listi obzirom da nam je ona nepotrebna\n",
    "    tabele.append(temp)"
   ]
  },
  {
   "cell_type": "markdown",
   "metadata": {},
   "source": [
    "Spajanje tabele po opštinama, za početak ćemo u tabelu preuzeti samo prvu od tabela (za prvi od datuma) i preimenovati nazive kolona:"
   ]
  },
  {
   "cell_type": "code",
   "execution_count": 6,
   "metadata": {},
   "outputs": [
    {
     "data": {
      "text/html": [
       "<div>\n",
       "<style scoped>\n",
       "    .dataframe tbody tr th:only-of-type {\n",
       "        vertical-align: middle;\n",
       "    }\n",
       "\n",
       "    .dataframe tbody tr th {\n",
       "        vertical-align: top;\n",
       "    }\n",
       "\n",
       "    .dataframe thead th {\n",
       "        text-align: right;\n",
       "    }\n",
       "</style>\n",
       "<table border=\"1\" class=\"dataframe\">\n",
       "  <thead>\n",
       "    <tr style=\"text-align: right;\">\n",
       "      <th></th>\n",
       "      <th>Територија</th>\n",
       "      <th>2020-03-06</th>\n",
       "    </tr>\n",
       "  </thead>\n",
       "  <tbody>\n",
       "    <tr>\n",
       "      <th>0</th>\n",
       "      <td>Бачка Топола</td>\n",
       "      <td>1.0</td>\n",
       "    </tr>\n",
       "    <tr>\n",
       "      <th>1</th>\n",
       "      <td>Алексинац</td>\n",
       "      <td>0.0</td>\n",
       "    </tr>\n",
       "    <tr>\n",
       "      <th>2</th>\n",
       "      <td>Аранђеловац</td>\n",
       "      <td>0.0</td>\n",
       "    </tr>\n",
       "    <tr>\n",
       "      <th>3</th>\n",
       "      <td>Ариље</td>\n",
       "      <td>0.0</td>\n",
       "    </tr>\n",
       "    <tr>\n",
       "      <th>4</th>\n",
       "      <td>Бабушница</td>\n",
       "      <td>0.0</td>\n",
       "    </tr>\n",
       "  </tbody>\n",
       "</table>\n",
       "</div>"
      ],
      "text/plain": [
       "     Територија  2020-03-06\n",
       "0  Бачка Топола         1.0\n",
       "1     Алексинац         0.0\n",
       "2   Аранђеловац         0.0\n",
       "3         Ариље         0.0\n",
       "4     Бабушница         0.0"
      ]
     },
     "execution_count": 6,
     "metadata": {},
     "output_type": "execute_result"
    }
   ],
   "source": [
    "merge_tabela = tabele[0]\n",
    "merge_tabela.columns = ['Територија',datumi[0]]\n",
    "merge_tabela.head() # u "
   ]
  },
  {
   "cell_type": "markdown",
   "metadata": {},
   "source": [
    "Iteriramo kroz list datuma, dodajući novu kolonu sa brojem zaraženih po opštinama:"
   ]
  },
  {
   "cell_type": "code",
   "execution_count": 7,
   "metadata": {},
   "outputs": [
    {
     "data": {
      "text/html": [
       "<div>\n",
       "<style scoped>\n",
       "    .dataframe tbody tr th:only-of-type {\n",
       "        vertical-align: middle;\n",
       "    }\n",
       "\n",
       "    .dataframe tbody tr th {\n",
       "        vertical-align: top;\n",
       "    }\n",
       "\n",
       "    .dataframe thead th {\n",
       "        text-align: right;\n",
       "    }\n",
       "</style>\n",
       "<table border=\"1\" class=\"dataframe\">\n",
       "  <thead>\n",
       "    <tr style=\"text-align: right;\">\n",
       "      <th></th>\n",
       "      <th>Територија</th>\n",
       "      <th>2020-03-06</th>\n",
       "      <th>2020-03-09</th>\n",
       "      <th>2020-03-10</th>\n",
       "      <th>2020-03-11</th>\n",
       "      <th>2020-03-12</th>\n",
       "      <th>2020-03-13</th>\n",
       "      <th>2020-03-14</th>\n",
       "      <th>2020-03-15</th>\n",
       "      <th>2020-03-16</th>\n",
       "      <th>...</th>\n",
       "      <th>2020-03-20</th>\n",
       "      <th>2020-03-21</th>\n",
       "      <th>2020-03-22</th>\n",
       "      <th>2020-03-23</th>\n",
       "      <th>2020-03-24</th>\n",
       "      <th>2020-03-25</th>\n",
       "      <th>2020-03-26</th>\n",
       "      <th>2020-03-27</th>\n",
       "      <th>2020-03-28</th>\n",
       "      <th>2020-03-29</th>\n",
       "    </tr>\n",
       "  </thead>\n",
       "  <tbody>\n",
       "    <tr>\n",
       "      <th>0</th>\n",
       "      <td>Бачка Топола</td>\n",
       "      <td>1.0</td>\n",
       "      <td>1.0</td>\n",
       "      <td>1.0</td>\n",
       "      <td>1.0</td>\n",
       "      <td>1.0</td>\n",
       "      <td>1.0</td>\n",
       "      <td>1.0</td>\n",
       "      <td>1.0</td>\n",
       "      <td>1.0</td>\n",
       "      <td>...</td>\n",
       "      <td>1.0</td>\n",
       "      <td>1.0</td>\n",
       "      <td>1.0</td>\n",
       "      <td>1.0</td>\n",
       "      <td>1.0</td>\n",
       "      <td>1.0</td>\n",
       "      <td>1.0</td>\n",
       "      <td>1.0</td>\n",
       "      <td>1.0</td>\n",
       "      <td>1.0</td>\n",
       "    </tr>\n",
       "    <tr>\n",
       "      <th>1</th>\n",
       "      <td>Алексинац</td>\n",
       "      <td>0.0</td>\n",
       "      <td>0.0</td>\n",
       "      <td>0.0</td>\n",
       "      <td>0.0</td>\n",
       "      <td>0.0</td>\n",
       "      <td>0.0</td>\n",
       "      <td>0.0</td>\n",
       "      <td>0.0</td>\n",
       "      <td>0.0</td>\n",
       "      <td>...</td>\n",
       "      <td>0.0</td>\n",
       "      <td>0.0</td>\n",
       "      <td>0.0</td>\n",
       "      <td>0.0</td>\n",
       "      <td>0.0</td>\n",
       "      <td>0.0</td>\n",
       "      <td>0.0</td>\n",
       "      <td>0.0</td>\n",
       "      <td>1.0</td>\n",
       "      <td>1.0</td>\n",
       "    </tr>\n",
       "    <tr>\n",
       "      <th>2</th>\n",
       "      <td>Аранђеловац</td>\n",
       "      <td>0.0</td>\n",
       "      <td>0.0</td>\n",
       "      <td>0.0</td>\n",
       "      <td>0.0</td>\n",
       "      <td>0.0</td>\n",
       "      <td>0.0</td>\n",
       "      <td>0.0</td>\n",
       "      <td>0.0</td>\n",
       "      <td>1.0</td>\n",
       "      <td>...</td>\n",
       "      <td>1.0</td>\n",
       "      <td>1.0</td>\n",
       "      <td>2.0</td>\n",
       "      <td>2.0</td>\n",
       "      <td>3.0</td>\n",
       "      <td>3.0</td>\n",
       "      <td>3.0</td>\n",
       "      <td>0.0</td>\n",
       "      <td>4.0</td>\n",
       "      <td>4.0</td>\n",
       "    </tr>\n",
       "    <tr>\n",
       "      <th>3</th>\n",
       "      <td>Ариље</td>\n",
       "      <td>0.0</td>\n",
       "      <td>0.0</td>\n",
       "      <td>0.0</td>\n",
       "      <td>0.0</td>\n",
       "      <td>0.0</td>\n",
       "      <td>0.0</td>\n",
       "      <td>0.0</td>\n",
       "      <td>0.0</td>\n",
       "      <td>0.0</td>\n",
       "      <td>...</td>\n",
       "      <td>0.0</td>\n",
       "      <td>0.0</td>\n",
       "      <td>0.0</td>\n",
       "      <td>0.0</td>\n",
       "      <td>0.0</td>\n",
       "      <td>0.0</td>\n",
       "      <td>0.0</td>\n",
       "      <td>0.0</td>\n",
       "      <td>0.0</td>\n",
       "      <td>0.0</td>\n",
       "    </tr>\n",
       "    <tr>\n",
       "      <th>4</th>\n",
       "      <td>Бабушница</td>\n",
       "      <td>0.0</td>\n",
       "      <td>0.0</td>\n",
       "      <td>0.0</td>\n",
       "      <td>0.0</td>\n",
       "      <td>0.0</td>\n",
       "      <td>0.0</td>\n",
       "      <td>0.0</td>\n",
       "      <td>0.0</td>\n",
       "      <td>0.0</td>\n",
       "      <td>...</td>\n",
       "      <td>0.0</td>\n",
       "      <td>0.0</td>\n",
       "      <td>0.0</td>\n",
       "      <td>0.0</td>\n",
       "      <td>0.0</td>\n",
       "      <td>0.0</td>\n",
       "      <td>0.0</td>\n",
       "      <td>0.0</td>\n",
       "      <td>0.0</td>\n",
       "      <td>0.0</td>\n",
       "    </tr>\n",
       "  </tbody>\n",
       "</table>\n",
       "<p>5 rows × 23 columns</p>\n",
       "</div>"
      ],
      "text/plain": [
       "     Територија  2020-03-06  2020-03-09  2020-03-10  2020-03-11  2020-03-12  \\\n",
       "0  Бачка Топола         1.0         1.0         1.0         1.0         1.0   \n",
       "1     Алексинац         0.0         0.0         0.0         0.0         0.0   \n",
       "2   Аранђеловац         0.0         0.0         0.0         0.0         0.0   \n",
       "3         Ариље         0.0         0.0         0.0         0.0         0.0   \n",
       "4     Бабушница         0.0         0.0         0.0         0.0         0.0   \n",
       "\n",
       "   2020-03-13  2020-03-14  2020-03-15  2020-03-16  ...  2020-03-20  \\\n",
       "0         1.0         1.0         1.0         1.0  ...         1.0   \n",
       "1         0.0         0.0         0.0         0.0  ...         0.0   \n",
       "2         0.0         0.0         0.0         1.0  ...         1.0   \n",
       "3         0.0         0.0         0.0         0.0  ...         0.0   \n",
       "4         0.0         0.0         0.0         0.0  ...         0.0   \n",
       "\n",
       "   2020-03-21  2020-03-22  2020-03-23  2020-03-24  2020-03-25  2020-03-26  \\\n",
       "0         1.0         1.0         1.0         1.0         1.0         1.0   \n",
       "1         0.0         0.0         0.0         0.0         0.0         0.0   \n",
       "2         1.0         2.0         2.0         3.0         3.0         3.0   \n",
       "3         0.0         0.0         0.0         0.0         0.0         0.0   \n",
       "4         0.0         0.0         0.0         0.0         0.0         0.0   \n",
       "\n",
       "   2020-03-27  2020-03-28  2020-03-29  \n",
       "0         1.0         1.0         1.0  \n",
       "1         0.0         1.0         1.0  \n",
       "2         0.0         4.0         4.0  \n",
       "3         0.0         0.0         0.0  \n",
       "4         0.0         0.0         0.0  \n",
       "\n",
       "[5 rows x 23 columns]"
      ]
     },
     "execution_count": 7,
     "metadata": {},
     "output_type": "execute_result"
    }
   ],
   "source": [
    "for i in range(1,len(datumi)):\n",
    "    merge_tabela = pd.merge(merge_tabela,tabele[i],on='Територија',how='outer')\n",
    "    merge_tabela = merge_tabela.rename(columns={'Вредност':datumi[i]})\n",
    "merge_tabela.head()"
   ]
  },
  {
   "cell_type": "markdown",
   "metadata": {},
   "source": [
    "10 lokacija sa najviše zaraženih poslednjeg datuma dostupnog u podacima:"
   ]
  },
  {
   "cell_type": "code",
   "execution_count": 8,
   "metadata": {},
   "outputs": [
    {
     "data": {
      "text/html": [
       "<div>\n",
       "<style scoped>\n",
       "    .dataframe tbody tr th:only-of-type {\n",
       "        vertical-align: middle;\n",
       "    }\n",
       "\n",
       "    .dataframe tbody tr th {\n",
       "        vertical-align: top;\n",
       "    }\n",
       "\n",
       "    .dataframe thead th {\n",
       "        text-align: right;\n",
       "    }\n",
       "</style>\n",
       "<table border=\"1\" class=\"dataframe\">\n",
       "  <thead>\n",
       "    <tr style=\"text-align: right;\">\n",
       "      <th></th>\n",
       "      <th>2020-03-29</th>\n",
       "      <th>Територија</th>\n",
       "    </tr>\n",
       "  </thead>\n",
       "  <tbody>\n",
       "    <tr>\n",
       "      <th>101</th>\n",
       "      <td>352.0</td>\n",
       "      <td>Град Београд</td>\n",
       "    </tr>\n",
       "    <tr>\n",
       "      <th>102</th>\n",
       "      <td>59.0</td>\n",
       "      <td>Град Ниш</td>\n",
       "    </tr>\n",
       "    <tr>\n",
       "      <th>16</th>\n",
       "      <td>50.0</td>\n",
       "      <td>Ваљево</td>\n",
       "    </tr>\n",
       "    <tr>\n",
       "      <th>91</th>\n",
       "      <td>49.0</td>\n",
       "      <td>Ћуприја</td>\n",
       "    </tr>\n",
       "    <tr>\n",
       "      <th>41</th>\n",
       "      <td>21.0</td>\n",
       "      <td>Крагујевац</td>\n",
       "    </tr>\n",
       "    <tr>\n",
       "      <th>44</th>\n",
       "      <td>20.0</td>\n",
       "      <td>Крушевац</td>\n",
       "    </tr>\n",
       "    <tr>\n",
       "      <th>23</th>\n",
       "      <td>16.0</td>\n",
       "      <td>Врање</td>\n",
       "    </tr>\n",
       "    <tr>\n",
       "      <th>141</th>\n",
       "      <td>15.0</td>\n",
       "      <td>Суботица</td>\n",
       "    </tr>\n",
       "    <tr>\n",
       "      <th>95</th>\n",
       "      <td>12.0</td>\n",
       "      <td>Чачак</td>\n",
       "    </tr>\n",
       "    <tr>\n",
       "      <th>42</th>\n",
       "      <td>10.0</td>\n",
       "      <td>Краљево</td>\n",
       "    </tr>\n",
       "  </tbody>\n",
       "</table>\n",
       "</div>"
      ],
      "text/plain": [
       "     2020-03-29    Територија\n",
       "101       352.0  Град Београд\n",
       "102        59.0      Град Ниш\n",
       "16         50.0        Ваљево\n",
       "91         49.0       Ћуприја\n",
       "41         21.0    Крагујевац\n",
       "44         20.0      Крушевац\n",
       "23         16.0         Врање\n",
       "141        15.0      Суботица\n",
       "95         12.0         Чачак\n",
       "42         10.0       Краљево"
      ]
     },
     "execution_count": 8,
     "metadata": {},
     "output_type": "execute_result"
    }
   ],
   "source": [
    "merge_tabela.sort_values(datumi[-1],ascending=False)[[datumi[-1],'Територија']][:10]"
   ]
  },
  {
   "cell_type": "markdown",
   "metadata": {},
   "source": [
    "Kako ljudi bolje čitaju informacije vizuelno, u nastavku je bar plot sa istim informacijama:"
   ]
  },
  {
   "cell_type": "code",
   "execution_count": 9,
   "metadata": {
    "scrolled": false
   },
   "outputs": [
    {
     "data": {
      "image/png": "[encoded data removed]",
      "text/plain": [
       "<Figure size 432x288 with 1 Axes>"
      ]
     },
     "metadata": {},
     "output_type": "display_data"
    }
   ],
   "source": [
    "merge_tabela.sort_values(datumi[-1],ascending=False)[[datumi[-1],'Територија']].set_index('Територија')[:10][::-1].plot(kind='barh',color='darkred')\n",
    "plt.xlabel('Број заражених')\n",
    "plt.show()"
   ]
  },
  {
   "cell_type": "markdown",
   "metadata": {},
   "source": [
    "A niže je i plot ukupnog broja zaraženih iz dana u dan u Srbiji:"
   ]
  },
  {
   "cell_type": "code",
   "execution_count": 10,
   "metadata": {
    "scrolled": true
   },
   "outputs": [
    {
     "data": {
      "image/png": "[encoded data removed]",
      "text/plain": [
       "<Figure size 432x288 with 1 Axes>"
      ]
     },
     "metadata": {},
     "output_type": "display_data"
    }
   ],
   "source": [
    "dani = []\n",
    "for d in datumi:\n",
    "    dani.append(int(d[8:]))\n",
    "    \n",
    "ukupno_zarazenih = list(merge_tabela.set_index('Територија').sum())\n",
    "plt.plot(dani, ukupno_zarazenih,'-o',color='darkred')\n",
    "#plt.xscale('log')\n",
    "plt.yscale('log')\n",
    "plt.ylabel('Ukupan broj zaraženih')\n",
    "plt.xlabel('Dan u martu')\n",
    "\n",
    "plt.show()"
   ]
  },
  {
   "cell_type": "markdown",
   "metadata": {},
   "source": [
    "Na žalost podaci o broju zaraženih i dalje prate eksponencijalni rast, što možemo demonstrirati fitovanjem podataka u nastavku:"
   ]
  },
  {
   "cell_type": "code",
   "execution_count": 11,
   "metadata": {},
   "outputs": [
    {
     "data": {
      "image/png": "[encoded data removed]",
      "text/plain": [
       "<Figure size 432x288 with 1 Axes>"
      ]
     },
     "metadata": {},
     "output_type": "display_data"
    }
   ],
   "source": [
    "k,n = np.polyfit(np.log(dani),np.log(ukupno_zarazenih),1)\n",
    "plt.plot(dani, ukupno_zarazenih,'o',color='darkred')\n",
    "\n",
    "x = np.linspace(5,31,50)\n",
    "plt.plot(x, np.exp(k*np.log(x)+n),color='grey')\n",
    "plt.xlabel('Datum u martu')\n",
    "plt.ylabel('Ukupan broj zaraženih')\n",
    "plt.show()"
   ]
  },
  {
   "cell_type": "markdown",
   "metadata": {},
   "source": [
    "#### Podaci po opštinama"
   ]
  },
  {
   "cell_type": "markdown",
   "metadata": {},
   "source": [
    "Za crtanje grafika po opštinama kroz vreme, zgodno nam je da ovu tabelu transponujemo:"
   ]
  },
  {
   "cell_type": "code",
   "execution_count": 12,
   "metadata": {
    "scrolled": true
   },
   "outputs": [
    {
     "data": {
      "text/html": [
       "<div>\n",
       "<style scoped>\n",
       "    .dataframe tbody tr th:only-of-type {\n",
       "        vertical-align: middle;\n",
       "    }\n",
       "\n",
       "    .dataframe tbody tr th {\n",
       "        vertical-align: top;\n",
       "    }\n",
       "\n",
       "    .dataframe thead th {\n",
       "        text-align: right;\n",
       "    }\n",
       "</style>\n",
       "<table border=\"1\" class=\"dataframe\">\n",
       "  <thead>\n",
       "    <tr style=\"text-align: right;\">\n",
       "      <th>Територија</th>\n",
       "      <th>Бачка Топола</th>\n",
       "      <th>Алексинац</th>\n",
       "      <th>Аранђеловац</th>\n",
       "      <th>Ариље</th>\n",
       "      <th>Бабушница</th>\n",
       "      <th>Бајина Башта</th>\n",
       "      <th>Баточина</th>\n",
       "      <th>Бела Паланка</th>\n",
       "      <th>Блаце</th>\n",
       "      <th>Богатић</th>\n",
       "      <th>...</th>\n",
       "      <th>Приштина</th>\n",
       "      <th>Србица</th>\n",
       "      <th>Сува Река</th>\n",
       "      <th>Косовска Митровица</th>\n",
       "      <th>Урошевац</th>\n",
       "      <th>Штимље</th>\n",
       "      <th>Штрпце</th>\n",
       "      <th>Гора</th>\n",
       "      <th>Александровац</th>\n",
       "      <th>Звечан</th>\n",
       "    </tr>\n",
       "  </thead>\n",
       "  <tbody>\n",
       "    <tr>\n",
       "      <th>2020-03-06</th>\n",
       "      <td>1.0</td>\n",
       "      <td>0.0</td>\n",
       "      <td>0.0</td>\n",
       "      <td>0.0</td>\n",
       "      <td>0.0</td>\n",
       "      <td>0.0</td>\n",
       "      <td>0.0</td>\n",
       "      <td>0.0</td>\n",
       "      <td>0.0</td>\n",
       "      <td>0.0</td>\n",
       "      <td>...</td>\n",
       "      <td>0.0</td>\n",
       "      <td>0.0</td>\n",
       "      <td>0.0</td>\n",
       "      <td>0.0</td>\n",
       "      <td>0.0</td>\n",
       "      <td>0.0</td>\n",
       "      <td>0.0</td>\n",
       "      <td>0.0</td>\n",
       "      <td>0.0</td>\n",
       "      <td>0.0</td>\n",
       "    </tr>\n",
       "    <tr>\n",
       "      <th>2020-03-09</th>\n",
       "      <td>1.0</td>\n",
       "      <td>0.0</td>\n",
       "      <td>0.0</td>\n",
       "      <td>0.0</td>\n",
       "      <td>0.0</td>\n",
       "      <td>0.0</td>\n",
       "      <td>0.0</td>\n",
       "      <td>0.0</td>\n",
       "      <td>0.0</td>\n",
       "      <td>0.0</td>\n",
       "      <td>...</td>\n",
       "      <td>0.0</td>\n",
       "      <td>0.0</td>\n",
       "      <td>0.0</td>\n",
       "      <td>0.0</td>\n",
       "      <td>0.0</td>\n",
       "      <td>0.0</td>\n",
       "      <td>0.0</td>\n",
       "      <td>0.0</td>\n",
       "      <td>0.0</td>\n",
       "      <td>0.0</td>\n",
       "    </tr>\n",
       "    <tr>\n",
       "      <th>2020-03-10</th>\n",
       "      <td>1.0</td>\n",
       "      <td>0.0</td>\n",
       "      <td>0.0</td>\n",
       "      <td>0.0</td>\n",
       "      <td>0.0</td>\n",
       "      <td>0.0</td>\n",
       "      <td>0.0</td>\n",
       "      <td>0.0</td>\n",
       "      <td>0.0</td>\n",
       "      <td>0.0</td>\n",
       "      <td>...</td>\n",
       "      <td>0.0</td>\n",
       "      <td>0.0</td>\n",
       "      <td>0.0</td>\n",
       "      <td>0.0</td>\n",
       "      <td>0.0</td>\n",
       "      <td>0.0</td>\n",
       "      <td>0.0</td>\n",
       "      <td>0.0</td>\n",
       "      <td>0.0</td>\n",
       "      <td>0.0</td>\n",
       "    </tr>\n",
       "    <tr>\n",
       "      <th>2020-03-11</th>\n",
       "      <td>1.0</td>\n",
       "      <td>0.0</td>\n",
       "      <td>0.0</td>\n",
       "      <td>0.0</td>\n",
       "      <td>0.0</td>\n",
       "      <td>0.0</td>\n",
       "      <td>0.0</td>\n",
       "      <td>0.0</td>\n",
       "      <td>0.0</td>\n",
       "      <td>0.0</td>\n",
       "      <td>...</td>\n",
       "      <td>0.0</td>\n",
       "      <td>0.0</td>\n",
       "      <td>0.0</td>\n",
       "      <td>0.0</td>\n",
       "      <td>0.0</td>\n",
       "      <td>0.0</td>\n",
       "      <td>0.0</td>\n",
       "      <td>0.0</td>\n",
       "      <td>0.0</td>\n",
       "      <td>0.0</td>\n",
       "    </tr>\n",
       "    <tr>\n",
       "      <th>2020-03-12</th>\n",
       "      <td>1.0</td>\n",
       "      <td>0.0</td>\n",
       "      <td>0.0</td>\n",
       "      <td>0.0</td>\n",
       "      <td>0.0</td>\n",
       "      <td>0.0</td>\n",
       "      <td>0.0</td>\n",
       "      <td>0.0</td>\n",
       "      <td>0.0</td>\n",
       "      <td>0.0</td>\n",
       "      <td>...</td>\n",
       "      <td>0.0</td>\n",
       "      <td>0.0</td>\n",
       "      <td>0.0</td>\n",
       "      <td>0.0</td>\n",
       "      <td>0.0</td>\n",
       "      <td>0.0</td>\n",
       "      <td>0.0</td>\n",
       "      <td>0.0</td>\n",
       "      <td>0.0</td>\n",
       "      <td>0.0</td>\n",
       "    </tr>\n",
       "  </tbody>\n",
       "</table>\n",
       "<p>5 rows × 178 columns</p>\n",
       "</div>"
      ],
      "text/plain": [
       "Територија  Бачка Топола  Алексинац  Аранђеловац  Ариље  Бабушница  \\\n",
       "2020-03-06           1.0        0.0          0.0    0.0        0.0   \n",
       "2020-03-09           1.0        0.0          0.0    0.0        0.0   \n",
       "2020-03-10           1.0        0.0          0.0    0.0        0.0   \n",
       "2020-03-11           1.0        0.0          0.0    0.0        0.0   \n",
       "2020-03-12           1.0        0.0          0.0    0.0        0.0   \n",
       "\n",
       "Територија  Бајина Башта  Баточина  Бела Паланка  Блаце  Богатић  ...  \\\n",
       "2020-03-06           0.0       0.0           0.0    0.0      0.0  ...   \n",
       "2020-03-09           0.0       0.0           0.0    0.0      0.0  ...   \n",
       "2020-03-10           0.0       0.0           0.0    0.0      0.0  ...   \n",
       "2020-03-11           0.0       0.0           0.0    0.0      0.0  ...   \n",
       "2020-03-12           0.0       0.0           0.0    0.0      0.0  ...   \n",
       "\n",
       "Територија  Приштина  Србица  Сува Река  Косовска Митровица  Урошевац  Штимље  \\\n",
       "2020-03-06       0.0     0.0        0.0                 0.0       0.0     0.0   \n",
       "2020-03-09       0.0     0.0        0.0                 0.0       0.0     0.0   \n",
       "2020-03-10       0.0     0.0        0.0                 0.0       0.0     0.0   \n",
       "2020-03-11       0.0     0.0        0.0                 0.0       0.0     0.0   \n",
       "2020-03-12       0.0     0.0        0.0                 0.0       0.0     0.0   \n",
       "\n",
       "Територија  Штрпце  Гора  Александровац  Звечан  \n",
       "2020-03-06     0.0   0.0            0.0     0.0  \n",
       "2020-03-09     0.0   0.0            0.0     0.0  \n",
       "2020-03-10     0.0   0.0            0.0     0.0  \n",
       "2020-03-11     0.0   0.0            0.0     0.0  \n",
       "2020-03-12     0.0   0.0            0.0     0.0  \n",
       "\n",
       "[5 rows x 178 columns]"
      ]
     },
     "execution_count": 12,
     "metadata": {},
     "output_type": "execute_result"
    }
   ],
   "source": [
    "opstine_podaci = merge_tabela.set_index('Територија').transpose()\n",
    "opstine_podaci.head()"
   ]
  },
  {
   "cell_type": "markdown",
   "metadata": {},
   "source": [
    "Unošenje kolone tipa datuma i kolone sa danom"
   ]
  },
  {
   "cell_type": "code",
   "execution_count": 13,
   "metadata": {
    "scrolled": true
   },
   "outputs": [
    {
     "data": {
      "text/html": [
       "<div>\n",
       "<style scoped>\n",
       "    .dataframe tbody tr th:only-of-type {\n",
       "        vertical-align: middle;\n",
       "    }\n",
       "\n",
       "    .dataframe tbody tr th {\n",
       "        vertical-align: top;\n",
       "    }\n",
       "\n",
       "    .dataframe thead th {\n",
       "        text-align: right;\n",
       "    }\n",
       "</style>\n",
       "<table border=\"1\" class=\"dataframe\">\n",
       "  <thead>\n",
       "    <tr style=\"text-align: right;\">\n",
       "      <th>Територија</th>\n",
       "      <th>Бачка Топола</th>\n",
       "      <th>Алексинац</th>\n",
       "      <th>Аранђеловац</th>\n",
       "      <th>Ариље</th>\n",
       "      <th>Бабушница</th>\n",
       "      <th>Бајина Башта</th>\n",
       "      <th>Баточина</th>\n",
       "      <th>Бела Паланка</th>\n",
       "      <th>Блаце</th>\n",
       "      <th>Богатић</th>\n",
       "      <th>...</th>\n",
       "      <th>Сува Река</th>\n",
       "      <th>Косовска Митровица</th>\n",
       "      <th>Урошевац</th>\n",
       "      <th>Штимље</th>\n",
       "      <th>Штрпце</th>\n",
       "      <th>Гора</th>\n",
       "      <th>Александровац</th>\n",
       "      <th>Звечан</th>\n",
       "      <th>datum</th>\n",
       "      <th>dan</th>\n",
       "    </tr>\n",
       "  </thead>\n",
       "  <tbody>\n",
       "    <tr>\n",
       "      <th>2020-03-06</th>\n",
       "      <td>1.0</td>\n",
       "      <td>0.0</td>\n",
       "      <td>0.0</td>\n",
       "      <td>0.0</td>\n",
       "      <td>0.0</td>\n",
       "      <td>0.0</td>\n",
       "      <td>0.0</td>\n",
       "      <td>0.0</td>\n",
       "      <td>0.0</td>\n",
       "      <td>0.0</td>\n",
       "      <td>...</td>\n",
       "      <td>0.0</td>\n",
       "      <td>0.0</td>\n",
       "      <td>0.0</td>\n",
       "      <td>0.0</td>\n",
       "      <td>0.0</td>\n",
       "      <td>0.0</td>\n",
       "      <td>0.0</td>\n",
       "      <td>0.0</td>\n",
       "      <td>2020-03-06</td>\n",
       "      <td>6</td>\n",
       "    </tr>\n",
       "    <tr>\n",
       "      <th>2020-03-09</th>\n",
       "      <td>1.0</td>\n",
       "      <td>0.0</td>\n",
       "      <td>0.0</td>\n",
       "      <td>0.0</td>\n",
       "      <td>0.0</td>\n",
       "      <td>0.0</td>\n",
       "      <td>0.0</td>\n",
       "      <td>0.0</td>\n",
       "      <td>0.0</td>\n",
       "      <td>0.0</td>\n",
       "      <td>...</td>\n",
       "      <td>0.0</td>\n",
       "      <td>0.0</td>\n",
       "      <td>0.0</td>\n",
       "      <td>0.0</td>\n",
       "      <td>0.0</td>\n",
       "      <td>0.0</td>\n",
       "      <td>0.0</td>\n",
       "      <td>0.0</td>\n",
       "      <td>2020-03-09</td>\n",
       "      <td>9</td>\n",
       "    </tr>\n",
       "  </tbody>\n",
       "</table>\n",
       "<p>2 rows × 180 columns</p>\n",
       "</div>"
      ],
      "text/plain": [
       "Територија  Бачка Топола  Алексинац  Аранђеловац  Ариље  Бабушница  \\\n",
       "2020-03-06           1.0        0.0          0.0    0.0        0.0   \n",
       "2020-03-09           1.0        0.0          0.0    0.0        0.0   \n",
       "\n",
       "Територија  Бајина Башта  Баточина  Бела Паланка  Блаце  Богатић  ...  \\\n",
       "2020-03-06           0.0       0.0           0.0    0.0      0.0  ...   \n",
       "2020-03-09           0.0       0.0           0.0    0.0      0.0  ...   \n",
       "\n",
       "Територија  Сува Река  Косовска Митровица  Урошевац  Штимље  Штрпце  Гора  \\\n",
       "2020-03-06        0.0                 0.0       0.0     0.0     0.0   0.0   \n",
       "2020-03-09        0.0                 0.0       0.0     0.0     0.0   0.0   \n",
       "\n",
       "Територија  Александровац  Звечан      datum  dan  \n",
       "2020-03-06            0.0     0.0 2020-03-06    6  \n",
       "2020-03-09            0.0     0.0 2020-03-09    9  \n",
       "\n",
       "[2 rows x 180 columns]"
      ]
     },
     "execution_count": 13,
     "metadata": {},
     "output_type": "execute_result"
    }
   ],
   "source": [
    "opstine_podaci['datum'] = opstine_podaci.index\n",
    "opstine_podaci['datum'] = pd.to_datetime(opstine_podaci['datum'])\n",
    "opstine_podaci['dan'] = opstine_podaci['datum'].dt.day\n",
    "opstine_podaci.head(2)"
   ]
  },
  {
   "cell_type": "markdown",
   "metadata": {},
   "source": [
    "Promene iz dana u dan za 5 opština sa najviše zaraženih:"
   ]
  },
  {
   "cell_type": "code",
   "execution_count": 14,
   "metadata": {},
   "outputs": [
    {
     "data": {
      "image/png": "[encoded data removed]",
      "text/plain": [
       "<Figure size 432x288 with 1 Axes>"
      ]
     },
     "metadata": {},
     "output_type": "display_data"
    }
   ],
   "source": [
    "teritorije = list(merge_tabela.sort_values(datumi[-1],ascending=False)['Територија'][:5])\n",
    "for teritorija in teritorije:\n",
    "    plt.plot(opstine_podaci.dan,opstine_podaci[teritorija],'o-',label=teritorija)\n",
    "plt.yscale('log')\n",
    "plt.grid()\n",
    "plt.legend()\n",
    "plt.show()"
   ]
  },
  {
   "cell_type": "markdown",
   "metadata": {},
   "source": [
    "#### Broj zaraženih na 10 000 stanovnika"
   ]
  },
  {
   "cell_type": "markdown",
   "metadata": {},
   "source": [
    "Međutim, informacija sa ukupnim brojem zaraženih stanovnika neke opštine nam ne daje potpunu informaciju, pošto nije jasno da li je veliki broj zaraženih u Beogradu samo posledica velikog broja stanovnika na teritoriji te geografske celine, ili je zaista broj zaraženih veliki. Stoga ćemo podatke spojiti sa informacijama Republičkog zavoda za statistiku. Fajl 'stanovnistvo po opstinama.xlsx' sadrži procenjen broj stanovnika na datum 30.06.2018. po opštinama:"
   ]
  },
  {
   "cell_type": "code",
   "execution_count": 15,
   "metadata": {},
   "outputs": [
    {
     "data": {
      "text/html": [
       "<div>\n",
       "<style scoped>\n",
       "    .dataframe tbody tr th:only-of-type {\n",
       "        vertical-align: middle;\n",
       "    }\n",
       "\n",
       "    .dataframe tbody tr th {\n",
       "        vertical-align: top;\n",
       "    }\n",
       "\n",
       "    .dataframe thead th {\n",
       "        text-align: right;\n",
       "    }\n",
       "</style>\n",
       "<table border=\"1\" class=\"dataframe\">\n",
       "  <thead>\n",
       "    <tr style=\"text-align: right;\">\n",
       "      <th></th>\n",
       "      <th>Okrug</th>\n",
       "      <th>Територија</th>\n",
       "      <th>Становништво 30.06.2018.</th>\n",
       "      <th>Становништво 30.06.2018. по 1 km2</th>\n",
       "      <th>Површина км2</th>\n",
       "    </tr>\n",
       "  </thead>\n",
       "  <tbody>\n",
       "    <tr>\n",
       "      <th>0</th>\n",
       "      <td>Град Београд</td>\n",
       "      <td>Град Београд</td>\n",
       "      <td>1690193.0</td>\n",
       "      <td>523.0</td>\n",
       "      <td>3234.0</td>\n",
       "    </tr>\n",
       "    <tr>\n",
       "      <th>1</th>\n",
       "      <td>Западнобачки управни округ</td>\n",
       "      <td>Сомбор</td>\n",
       "      <td>79437.0</td>\n",
       "      <td>65.0</td>\n",
       "      <td>1216.0</td>\n",
       "    </tr>\n",
       "  </tbody>\n",
       "</table>\n",
       "</div>"
      ],
      "text/plain": [
       "                        Okrug    Територија  Становништво 30.06.2018.  \\\n",
       "0                Град Београд  Град Београд                 1690193.0   \n",
       "1  Западнобачки управни округ        Сомбор                   79437.0   \n",
       "\n",
       "   Становништво 30.06.2018. по 1 km2  Површина км2  \n",
       "0                              523.0        3234.0  \n",
       "1                               65.0        1216.0  "
      ]
     },
     "execution_count": 15,
     "metadata": {},
     "output_type": "execute_result"
    }
   ],
   "source": [
    "stanovnistvo = pd.read_excel('data/stanovnistvo po opstinama.xlsx')\n",
    "stanovnistvo.head(2)"
   ]
  },
  {
   "cell_type": "markdown",
   "metadata": {},
   "source": [
    "Spojićemo ovu tabelu sa prethodnom po koloni koja sadrži nazive teritorija:"
   ]
  },
  {
   "cell_type": "code",
   "execution_count": 16,
   "metadata": {
    "scrolled": true
   },
   "outputs": [
    {
     "data": {
      "text/html": [
       "<div>\n",
       "<style scoped>\n",
       "    .dataframe tbody tr th:only-of-type {\n",
       "        vertical-align: middle;\n",
       "    }\n",
       "\n",
       "    .dataframe tbody tr th {\n",
       "        vertical-align: top;\n",
       "    }\n",
       "\n",
       "    .dataframe thead th {\n",
       "        text-align: right;\n",
       "    }\n",
       "</style>\n",
       "<table border=\"1\" class=\"dataframe\">\n",
       "  <thead>\n",
       "    <tr style=\"text-align: right;\">\n",
       "      <th></th>\n",
       "      <th>Okrug</th>\n",
       "      <th>Територија</th>\n",
       "      <th>Становништво 30.06.2018.</th>\n",
       "      <th>Становништво 30.06.2018. по 1 km2</th>\n",
       "      <th>Површина км2</th>\n",
       "      <th>2020-03-06</th>\n",
       "      <th>2020-03-09</th>\n",
       "      <th>2020-03-10</th>\n",
       "      <th>2020-03-11</th>\n",
       "      <th>2020-03-12</th>\n",
       "      <th>...</th>\n",
       "      <th>2020-03-20</th>\n",
       "      <th>2020-03-21</th>\n",
       "      <th>2020-03-22</th>\n",
       "      <th>2020-03-23</th>\n",
       "      <th>2020-03-24</th>\n",
       "      <th>2020-03-25</th>\n",
       "      <th>2020-03-26</th>\n",
       "      <th>2020-03-27</th>\n",
       "      <th>2020-03-28</th>\n",
       "      <th>2020-03-29</th>\n",
       "    </tr>\n",
       "  </thead>\n",
       "  <tbody>\n",
       "    <tr>\n",
       "      <th>0</th>\n",
       "      <td>Град Београд</td>\n",
       "      <td>Град Београд</td>\n",
       "      <td>1690193.0</td>\n",
       "      <td>523.0</td>\n",
       "      <td>3234.0</td>\n",
       "      <td>0.0</td>\n",
       "      <td>3.0</td>\n",
       "      <td>5.0</td>\n",
       "      <td>8.0</td>\n",
       "      <td>13.0</td>\n",
       "      <td>...</td>\n",
       "      <td>54.0</td>\n",
       "      <td>71.0</td>\n",
       "      <td>98.0</td>\n",
       "      <td>113.0</td>\n",
       "      <td>127.0</td>\n",
       "      <td>173.0</td>\n",
       "      <td>218.0</td>\n",
       "      <td>261.0</td>\n",
       "      <td>334.0</td>\n",
       "      <td>352.0</td>\n",
       "    </tr>\n",
       "    <tr>\n",
       "      <th>1</th>\n",
       "      <td>Западнобачки управни округ</td>\n",
       "      <td>Сомбор</td>\n",
       "      <td>79437.0</td>\n",
       "      <td>65.0</td>\n",
       "      <td>1216.0</td>\n",
       "      <td>0.0</td>\n",
       "      <td>0.0</td>\n",
       "      <td>0.0</td>\n",
       "      <td>0.0</td>\n",
       "      <td>0.0</td>\n",
       "      <td>...</td>\n",
       "      <td>0.0</td>\n",
       "      <td>1.0</td>\n",
       "      <td>1.0</td>\n",
       "      <td>1.0</td>\n",
       "      <td>1.0</td>\n",
       "      <td>1.0</td>\n",
       "      <td>1.0</td>\n",
       "      <td>1.0</td>\n",
       "      <td>1.0</td>\n",
       "      <td>1.0</td>\n",
       "    </tr>\n",
       "  </tbody>\n",
       "</table>\n",
       "<p>2 rows × 27 columns</p>\n",
       "</div>"
      ],
      "text/plain": [
       "                        Okrug    Територија  Становништво 30.06.2018.  \\\n",
       "0                Град Београд  Град Београд                 1690193.0   \n",
       "1  Западнобачки управни округ        Сомбор                   79437.0   \n",
       "\n",
       "   Становништво 30.06.2018. по 1 km2  Површина км2  2020-03-06  2020-03-09  \\\n",
       "0                              523.0        3234.0         0.0         3.0   \n",
       "1                               65.0        1216.0         0.0         0.0   \n",
       "\n",
       "   2020-03-10  2020-03-11  2020-03-12  ...  2020-03-20  2020-03-21  \\\n",
       "0         5.0         8.0        13.0  ...        54.0        71.0   \n",
       "1         0.0         0.0         0.0  ...         0.0         1.0   \n",
       "\n",
       "   2020-03-22  2020-03-23  2020-03-24  2020-03-25  2020-03-26  2020-03-27  \\\n",
       "0        98.0       113.0       127.0       173.0       218.0       261.0   \n",
       "1         1.0         1.0         1.0         1.0         1.0         1.0   \n",
       "\n",
       "   2020-03-28  2020-03-29  \n",
       "0       334.0       352.0  \n",
       "1         1.0         1.0  \n",
       "\n",
       "[2 rows x 27 columns]"
      ]
     },
     "execution_count": 16,
     "metadata": {},
     "output_type": "execute_result"
    }
   ],
   "source": [
    "opstine_stanovnistvo_covid = pd.merge(stanovnistvo,merge_tabela, on='Територија',how='outer')\n",
    "opstine_stanovnistvo_covid.head(2)"
   ]
  },
  {
   "cell_type": "markdown",
   "metadata": {},
   "source": [
    "A zatim za poslednji od datuma možemo uvesti i kolonu koja sadrži normirane podatke, tj. na primer broj zaraženih na 10 000 stanovnika:"
   ]
  },
  {
   "cell_type": "code",
   "execution_count": 17,
   "metadata": {},
   "outputs": [],
   "source": [
    "opstine_stanovnistvo_covid[datumi[-1]+'-нормирано'] = 10000*opstine_stanovnistvo_covid[datumi[-1]]/opstine_stanovnistvo_covid['Становништво 30.06.2018.']"
   ]
  },
  {
   "cell_type": "code",
   "execution_count": 18,
   "metadata": {},
   "outputs": [
    {
     "data": {
      "text/html": [
       "<div>\n",
       "<style scoped>\n",
       "    .dataframe tbody tr th:only-of-type {\n",
       "        vertical-align: middle;\n",
       "    }\n",
       "\n",
       "    .dataframe tbody tr th {\n",
       "        vertical-align: top;\n",
       "    }\n",
       "\n",
       "    .dataframe thead th {\n",
       "        text-align: right;\n",
       "    }\n",
       "</style>\n",
       "<table border=\"1\" class=\"dataframe\">\n",
       "  <thead>\n",
       "    <tr style=\"text-align: right;\">\n",
       "      <th></th>\n",
       "      <th>Територија</th>\n",
       "      <th>2020-03-29-нормирано</th>\n",
       "    </tr>\n",
       "  </thead>\n",
       "  <tbody>\n",
       "    <tr>\n",
       "      <th>81</th>\n",
       "      <td>Ћуприја</td>\n",
       "      <td>17.374038</td>\n",
       "    </tr>\n",
       "    <tr>\n",
       "      <th>58</th>\n",
       "      <td>Ваљево</td>\n",
       "      <td>5.816524</td>\n",
       "    </tr>\n",
       "    <tr>\n",
       "      <th>143</th>\n",
       "      <td>Сурдулица</td>\n",
       "      <td>4.808720</td>\n",
       "    </tr>\n",
       "    <tr>\n",
       "      <th>123</th>\n",
       "      <td>Град Ниш</td>\n",
       "      <td>2.301263</td>\n",
       "    </tr>\n",
       "    <tr>\n",
       "      <th>137</th>\n",
       "      <td>Врање</td>\n",
       "      <td>2.236167</td>\n",
       "    </tr>\n",
       "    <tr>\n",
       "      <th>0</th>\n",
       "      <td>Град Београд</td>\n",
       "      <td>2.082602</td>\n",
       "    </tr>\n",
       "    <tr>\n",
       "      <th>3</th>\n",
       "      <td>Кула</td>\n",
       "      <td>2.019743</td>\n",
       "    </tr>\n",
       "    <tr>\n",
       "      <th>132</th>\n",
       "      <td>Бела Паланка</td>\n",
       "      <td>1.836716</td>\n",
       "    </tr>\n",
       "    <tr>\n",
       "      <th>82</th>\n",
       "      <td>Крушевац</td>\n",
       "      <td>1.648900</td>\n",
       "    </tr>\n",
       "    <tr>\n",
       "      <th>6</th>\n",
       "      <td>Алибунар</td>\n",
       "      <td>1.618472</td>\n",
       "    </tr>\n",
       "  </tbody>\n",
       "</table>\n",
       "</div>"
      ],
      "text/plain": [
       "       Територија  2020-03-29-нормирано\n",
       "81        Ћуприја             17.374038\n",
       "58         Ваљево              5.816524\n",
       "143     Сурдулица              4.808720\n",
       "123      Град Ниш              2.301263\n",
       "137         Врање              2.236167\n",
       "0    Град Београд              2.082602\n",
       "3            Кула              2.019743\n",
       "132  Бела Паланка              1.836716\n",
       "82       Крушевац              1.648900\n",
       "6        Алибунар              1.618472"
      ]
     },
     "execution_count": 18,
     "metadata": {},
     "output_type": "execute_result"
    }
   ],
   "source": [
    "opstine_stanovnistvo_covid.sort_values(by=datumi[-1]+'-нормирано',ascending=False)[['Територија',datumi[-1]+'-нормирано']][:10]"
   ]
  },
  {
   "cell_type": "markdown",
   "metadata": {},
   "source": [
    "Ovde vidimo da se 'rang lista' značajno razlikuje od one koja je najčešće komunicirana u medijima, grad Beograd nalazi se na 6. umesto na prvom mestu i daleko je manje ugrožen od Ćuprije. Kako bismo to još jasnije videli, nacrtaćemo i ove podatke, a zatim uporediti dva grafika:"
   ]
  },
  {
   "cell_type": "code",
   "execution_count": 19,
   "metadata": {
    "scrolled": false
   },
   "outputs": [
    {
     "data": {
      "image/png": "[encoded data removed]",
      "text/plain": [
       "<Figure size 432x288 with 1 Axes>"
      ]
     },
     "metadata": {},
     "output_type": "display_data"
    }
   ],
   "source": [
    "forplot = opstine_stanovnistvo_covid.sort_values(by=datumi[-1]+'-нормирано',ascending=False)[['Територија',datumi[-1]+'-нормирано']][:10]\n",
    "forplot[::-1].set_index('Територија').plot(kind='barh',color='darkred')\n",
    "plt.xlabel('Број заражених на 10000 становника')\n",
    "plt.show()"
   ]
  },
  {
   "cell_type": "code",
   "execution_count": 20,
   "metadata": {},
   "outputs": [],
   "source": [
    "najvisezarazenih10 = list(merge_tabela.sort_values(datumi[-1],ascending=False)['Територија'][:10])"
   ]
  },
  {
   "cell_type": "code",
   "execution_count": 21,
   "metadata": {},
   "outputs": [
    {
     "data": {
      "image/png": "[encoded data removed]",
      "text/plain": [
       "<Figure size 864x288 with 2 Axes>"
      ]
     },
     "metadata": {},
     "output_type": "display_data"
    }
   ],
   "source": [
    "fig, axs = plt.subplots(1,2, figsize=(12, 4))\n",
    "\n",
    "merge_tabela.sort_values(datumi[-1],ascending=False)[[datumi[-1],'Територија']].set_index('Територија')[:10][::-1].plot(ax=axs[0],kind='barh',color='darkred')\n",
    "axs[0].set_xlabel('Укупан број заражених')\n",
    "\n",
    "forplot2 = opstine_stanovnistvo_covid[opstine_stanovnistvo_covid['Територија'].isin(najvisezarazenih10)].set_index('Територија')[datumi[-1]+'-нормирано']\n",
    "forplot2[najvisezarazenih10][::-1].plot(ax=axs[1],kind='barh',color='darkred')\n",
    "axs[1].set_xlabel('Број заражених на 10000 становника')\n",
    "plt.tight_layout()\n",
    "plt.savefig('Top10_zarazenih_2903.png',format='png',dpi=300)\n",
    "plt.show()"
   ]
  },
  {
   "cell_type": "markdown",
   "metadata": {},
   "source": [
    "#### Prikaz podataka na mapi"
   ]
  },
  {
   "cell_type": "markdown",
   "metadata": {},
   "source": [
    "Iako vizualizacija na mapi nije baš optimalan način za komunikaciju informacija (ljudi su daleko lošiji u poređenju brightnes-a, veličine kružića nego dužina), evo u nastavku i prikaza na mapi:"
   ]
  },
  {
   "cell_type": "code",
   "execution_count": 22,
   "metadata": {
    "scrolled": true
   },
   "outputs": [
    {
     "data": {
      "image/png": "[encoded data removed]",
      "text/plain": [
       "<Figure size 432x288 with 1 Axes>"
      ]
     },
     "metadata": {},
     "output_type": "display_data"
    }
   ],
   "source": [
    "# geografski podaci za opstine preuzeti su sa: https://opendata.geosrbija.rs/ korigovanih imena i mergovanih gradova (Beograd, Nis) za lakse spajanje s podacima u nastavku\n",
    "opstine_geo = gpd.read_file('data/geo_podaci_opstine.xlsx',encoding='UTF-8')\n",
    "opstine_geo.plot()\n",
    "plt.show()"
   ]
  },
  {
   "cell_type": "code",
   "execution_count": 23,
   "metadata": {},
   "outputs": [
    {
     "data": {
      "text/html": [
       "<div>\n",
       "<style scoped>\n",
       "    .dataframe tbody tr th:only-of-type {\n",
       "        vertical-align: middle;\n",
       "    }\n",
       "\n",
       "    .dataframe tbody tr th {\n",
       "        vertical-align: top;\n",
       "    }\n",
       "\n",
       "    .dataframe thead th {\n",
       "        text-align: right;\n",
       "    }\n",
       "</style>\n",
       "<table border=\"1\" class=\"dataframe\">\n",
       "  <thead>\n",
       "    <tr style=\"text-align: right;\">\n",
       "      <th></th>\n",
       "      <th>opstina_im</th>\n",
       "      <th>okrug_imel</th>\n",
       "      <th>wkt</th>\n",
       "      <th>geometry</th>\n",
       "    </tr>\n",
       "  </thead>\n",
       "  <tbody>\n",
       "    <tr>\n",
       "      <th>0</th>\n",
       "      <td>BAČKA TOPOLA</td>\n",
       "      <td>SEVERNOBAÄŒKI UPRAVNI OKRUG</td>\n",
       "      <td>POLYGON((378765.834100001 5089008.2704,379027....</td>\n",
       "      <td>POLYGON ((378765.834 5089008.270, 379027.486 5...</td>\n",
       "    </tr>\n",
       "    <tr>\n",
       "      <th>1</th>\n",
       "      <td>SVILAJNAC</td>\n",
       "      <td>POMORAVSKI UPRAVNI OKRUG</td>\n",
       "      <td>POLYGON((512774.023400001 4907035.736,512766.4...</td>\n",
       "      <td>POLYGON ((512774.023 4907035.736, 512766.490 4...</td>\n",
       "    </tr>\n",
       "  </tbody>\n",
       "</table>\n",
       "</div>"
      ],
      "text/plain": [
       "     opstina_im                   okrug_imel  \\\n",
       "0  BAČKA TOPOLA  SEVERNOBAÄŒKI UPRAVNI OKRUG   \n",
       "1     SVILAJNAC     POMORAVSKI UPRAVNI OKRUG   \n",
       "\n",
       "                                                 wkt  \\\n",
       "0  POLYGON((378765.834100001 5089008.2704,379027....   \n",
       "1  POLYGON((512774.023400001 4907035.736,512766.4...   \n",
       "\n",
       "                                            geometry  \n",
       "0  POLYGON ((378765.834 5089008.270, 379027.486 5...  \n",
       "1  POLYGON ((512774.023 4907035.736, 512766.490 4...  "
      ]
     },
     "execution_count": 23,
     "metadata": {},
     "output_type": "execute_result"
    }
   ],
   "source": [
    "opstine_geo.head(2)"
   ]
  },
  {
   "cell_type": "markdown",
   "metadata": {},
   "source": [
    "U prethodno korišćenoj tabeli opstine_stanovnistvo_covid, nazivi teritorija su ćirilični, pa ćemo dodati u tu tabelu kolonu naziva *opstina_im* u kojoj su nazivi opština latinični i capital:"
   ]
  },
  {
   "cell_type": "code",
   "execution_count": 24,
   "metadata": {},
   "outputs": [],
   "source": [
    "opstine_stanovnistvo_covid['opstina_im'] = [cyrtranslit.to_latin(text,'sr').upper() for text in list(opstine_stanovnistvo_covid['Територија'])]"
   ]
  },
  {
   "cell_type": "markdown",
   "metadata": {},
   "source": [
    "Mergovana tabela sada sadrži pored geografskih podataka i broj zaraženih stanovnika iz dana u dan, kao i broj stanovnika u datoj opštini:"
   ]
  },
  {
   "cell_type": "code",
   "execution_count": 25,
   "metadata": {},
   "outputs": [
    {
     "data": {
      "text/html": [
       "<div>\n",
       "<style scoped>\n",
       "    .dataframe tbody tr th:only-of-type {\n",
       "        vertical-align: middle;\n",
       "    }\n",
       "\n",
       "    .dataframe tbody tr th {\n",
       "        vertical-align: top;\n",
       "    }\n",
       "\n",
       "    .dataframe thead th {\n",
       "        text-align: right;\n",
       "    }\n",
       "</style>\n",
       "<table border=\"1\" class=\"dataframe\">\n",
       "  <thead>\n",
       "    <tr style=\"text-align: right;\">\n",
       "      <th></th>\n",
       "      <th>opstina_im</th>\n",
       "      <th>okrug_imel</th>\n",
       "      <th>wkt</th>\n",
       "      <th>geometry</th>\n",
       "      <th>Okrug</th>\n",
       "      <th>Територија</th>\n",
       "      <th>Становништво 30.06.2018.</th>\n",
       "      <th>Становништво 30.06.2018. по 1 km2</th>\n",
       "      <th>Површина км2</th>\n",
       "      <th>2020-03-06</th>\n",
       "      <th>...</th>\n",
       "      <th>2020-03-21</th>\n",
       "      <th>2020-03-22</th>\n",
       "      <th>2020-03-23</th>\n",
       "      <th>2020-03-24</th>\n",
       "      <th>2020-03-25</th>\n",
       "      <th>2020-03-26</th>\n",
       "      <th>2020-03-27</th>\n",
       "      <th>2020-03-28</th>\n",
       "      <th>2020-03-29</th>\n",
       "      <th>2020-03-29-нормирано</th>\n",
       "    </tr>\n",
       "  </thead>\n",
       "  <tbody>\n",
       "    <tr>\n",
       "      <th>0</th>\n",
       "      <td>BAČKA TOPOLA</td>\n",
       "      <td>SEVERNOBAÄŒKI UPRAVNI OKRUG</td>\n",
       "      <td>POLYGON((378765.834100001 5089008.2704,379027....</td>\n",
       "      <td>POLYGON ((378765.834 5089008.270, 379027.486 5...</td>\n",
       "      <td>Севернобачки управни округ</td>\n",
       "      <td>Бачка Топола</td>\n",
       "      <td>30927.0</td>\n",
       "      <td>52.0</td>\n",
       "      <td>596.0</td>\n",
       "      <td>1.0</td>\n",
       "      <td>...</td>\n",
       "      <td>1.0</td>\n",
       "      <td>1.0</td>\n",
       "      <td>1.0</td>\n",
       "      <td>1.0</td>\n",
       "      <td>1.0</td>\n",
       "      <td>1.0</td>\n",
       "      <td>1.0</td>\n",
       "      <td>1.0</td>\n",
       "      <td>1.0</td>\n",
       "      <td>0.323342</td>\n",
       "    </tr>\n",
       "    <tr>\n",
       "      <th>1</th>\n",
       "      <td>SVILAJNAC</td>\n",
       "      <td>POMORAVSKI UPRAVNI OKRUG</td>\n",
       "      <td>POLYGON((512774.023400001 4907035.736,512766.4...</td>\n",
       "      <td>POLYGON ((512774.023 4907035.736, 512766.490 4...</td>\n",
       "      <td>Поморавски управни округ</td>\n",
       "      <td>Свилајнац</td>\n",
       "      <td>21414.0</td>\n",
       "      <td>66.0</td>\n",
       "      <td>326.0</td>\n",
       "      <td>0.0</td>\n",
       "      <td>...</td>\n",
       "      <td>1.0</td>\n",
       "      <td>1.0</td>\n",
       "      <td>1.0</td>\n",
       "      <td>1.0</td>\n",
       "      <td>1.0</td>\n",
       "      <td>1.0</td>\n",
       "      <td>0.0</td>\n",
       "      <td>0.0</td>\n",
       "      <td>0.0</td>\n",
       "      <td>0.000000</td>\n",
       "    </tr>\n",
       "  </tbody>\n",
       "</table>\n",
       "<p>2 rows × 32 columns</p>\n",
       "</div>"
      ],
      "text/plain": [
       "     opstina_im                   okrug_imel  \\\n",
       "0  BAČKA TOPOLA  SEVERNOBAÄŒKI UPRAVNI OKRUG   \n",
       "1     SVILAJNAC     POMORAVSKI UPRAVNI OKRUG   \n",
       "\n",
       "                                                 wkt  \\\n",
       "0  POLYGON((378765.834100001 5089008.2704,379027....   \n",
       "1  POLYGON((512774.023400001 4907035.736,512766.4...   \n",
       "\n",
       "                                            geometry  \\\n",
       "0  POLYGON ((378765.834 5089008.270, 379027.486 5...   \n",
       "1  POLYGON ((512774.023 4907035.736, 512766.490 4...   \n",
       "\n",
       "                        Okrug    Територија  Становништво 30.06.2018.  \\\n",
       "0  Севернобачки управни округ  Бачка Топола                   30927.0   \n",
       "1    Поморавски управни округ     Свилајнац                   21414.0   \n",
       "\n",
       "   Становништво 30.06.2018. по 1 km2  Површина км2  2020-03-06  ...  \\\n",
       "0                               52.0         596.0         1.0  ...   \n",
       "1                               66.0         326.0         0.0  ...   \n",
       "\n",
       "   2020-03-21  2020-03-22  2020-03-23  2020-03-24  2020-03-25  2020-03-26  \\\n",
       "0         1.0         1.0         1.0         1.0         1.0         1.0   \n",
       "1         1.0         1.0         1.0         1.0         1.0         1.0   \n",
       "\n",
       "   2020-03-27  2020-03-28  2020-03-29  2020-03-29-нормирано  \n",
       "0         1.0         1.0         1.0              0.323342  \n",
       "1         0.0         0.0         0.0              0.000000  \n",
       "\n",
       "[2 rows x 32 columns]"
      ]
     },
     "execution_count": 25,
     "metadata": {},
     "output_type": "execute_result"
    }
   ],
   "source": [
    "opstine_stanovnistvo_covid_geo = pd.merge(opstine_geo,opstine_stanovnistvo_covid,on='opstina_im',how='outer')\n",
    "opstine_stanovnistvo_covid_geo.head(2)"
   ]
  },
  {
   "cell_type": "markdown",
   "metadata": {},
   "source": [
    "Plot kolone sa normiranim podacima o broju zaraženih 20202-03-29:"
   ]
  },
  {
   "cell_type": "code",
   "execution_count": 26,
   "metadata": {},
   "outputs": [
    {
     "data": {
      "image/png": "[encoded data removed]",
      "text/plain": [
       "<Figure size 720x432 with 2 Axes>"
      ]
     },
     "metadata": {},
     "output_type": "display_data"
    }
   ],
   "source": [
    "fig, ax = plt.subplots(1,figsize=(10,6))\n",
    "opstine_stanovnistvo_covid_geo['2020-03-29-нормирано'] = opstine_stanovnistvo_covid_geo['2020-03-29-нормирано'].fillna(0)\n",
    "opstine_stanovnistvo_covid_geo.plot(column='2020-03-29-нормирано', ax=ax, legend=True, cmap='Reds', linewidth=0.1, edgecolor='0.8')\n",
    "ax.axis('off')\n",
    "ax.set_title('Broj zaraženih na 10000 stanovnika na dan '+datumi[-1], fontdict={'fontsize': '13', 'fontweight': '3'})\n",
    "ax.annotate(' Izvori podataka: \\n http://covid19.data.gov.rs/\\n https://opendata.geosrbija.rs/\\n https://www.stat.gov.rs/',xy=(0.15, 0.15),  xycoords='figure fraction', horizontalalignment='left', verticalalignment='top', fontsize=12, color='#555555');"
   ]
  },
  {
   "cell_type": "markdown",
   "metadata": {},
   "source": [
    "Crtanje i čuvanje mapa za svaki od datuma za koje postoje podaci i pravljenje animacije:"
   ]
  },
  {
   "cell_type": "code",
   "execution_count": 28,
   "metadata": {},
   "outputs": [],
   "source": [
    "for i in range(len(datumi)):\n",
    "    opstine_stanovnistvo_covid_geo['Broj zarazenih na 10k'] = 10000*opstine_stanovnistvo_covid_geo[datumi[i]]/opstine_stanovnistvo_covid_geo['Становништво 30.06.2018.']\n",
    "    opstine_stanovnistvo_covid_geo['Broj zarazenih na 10k'] = opstine_stanovnistvo_covid_geo['Broj zarazenih na 10k'].fillna(0) # popunjavanje 0 za lokacije sa nepotpunim podacima\n",
    "    \n",
    "    fig, ax = plt.subplots(1,figsize=(10,6))\n",
    "    opstine_stanovnistvo_covid_geo.plot(column='Broj zarazenih na 10k', ax=ax, legend=True, cmap='Reds', linewidth=0.1, edgecolor='0.8')\n",
    "    ax.axis('off')\n",
    "    ax.set_title('Ukupno zaraženih na 10000 stanovnika iz dana u dan\\n\\n'.upper(), fontdict={'fontsize': '12'})\n",
    "    ax.annotate(' Izvori podataka: \\n http://covid19.data.gov.rs/\\n https://opendata.geosrbija.rs/\\n https://www.stat.gov.rs/',xy=(0.15, 0.15),  xycoords='figure fraction', horizontalalignment='left', verticalalignment='top', fontsize=12, color='#555555');\n",
    "    ax.annotate('Datum: ' + datumi[i] + '\\nUkupno zaraženih: '+str(int(ukupno_zarazenih[i])),xy=(0.15, 0.5),  xycoords='figure fraction', horizontalalignment='left', verticalalignment='top', fontsize=12, fontweight=5, color='#555555');\n",
    "\n",
    "    plt.savefig('plots/Zarazeni na 10k stanovnika '+datumi[i]+'.png',format='png',dpi=300)\n",
    "    plt.close(fig)"
   ]
  },
  {
   "cell_type": "code",
   "execution_count": 29,
   "metadata": {},
   "outputs": [],
   "source": [
    "images = []\n",
    "for datum in datumi:\n",
    "    images.append(imageio.imread('plots/Zarazeni na 10k stanovnika '+datum+'.png'))\n",
    "imageio.mimsave('covid19_rs.gif', images, duration = 0.5)"
   ]
  },
  {
   "cell_type": "markdown",
   "metadata": {},
   "source": [
    "Dobijeni gif:"
   ]
  },
  {
   "cell_type": "markdown",
   "metadata": {},
   "source": [
    "<img src=\"covid19_rs.gif\" width=\"750\" align=\"left\">"
   ]
  },
  {
   "cell_type": "code",
   "execution_count": null,
   "metadata": {},
   "outputs": [],
   "source": []
  }
 ],
 "metadata": {
  "kernelspec": {
   "display_name": "Python 3",
   "language": "python",
   "name": "python3"
  },
  "language_info": {
   "codemirror_mode": {
    "name": "ipython",
    "version": 3
   },
   "file_extension": ".py",
   "mimetype": "text/x-python",
   "name": "python",
   "nbconvert_exporter": "python",
   "pygments_lexer": "ipython3",
   "version": "3.6.5"
  }
 },
 "nbformat": 4,
 "nbformat_minor": 2
}
